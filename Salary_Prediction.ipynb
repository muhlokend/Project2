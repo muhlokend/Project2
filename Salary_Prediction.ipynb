{
 "cells": [
  {
   "cell_type": "code",
   "execution_count": 1,
   "metadata": {},
   "outputs": [],
   "source": [
    "# Code here\n",
    "import pandas as pd\n",
    "import numpy as np\n",
    "from sklearn.metrics import accuracy_score\n",
    "from sklearn.model_selection import train_test_split\n",
    "from sklearn.experimental import enable_hist_gradient_boosting\n",
    "from sklearn.ensemble import HistGradientBoostingClassifier\n",
    "\n",
    "# Import csv file and preprocessing data\n",
    "df1 = pd.read_csv('pendapatan_train.csv')\n",
    "df2 = pd.read_csv('pendapatan_test.csv')\n",
    "\n",
    "df1['Jenis Kelamin'] = df1['Jenis Kelamin'].map( {'Perempuan': 0, 'Laki2': 1} )\n",
    "df2['Jenis Kelamin'] = df2['Jenis Kelamin'].map( {'Perempuan': 0, 'Laki2': 1} )\n",
    "\n",
    "df1['Kelas Pekerja'] = df1['Kelas Pekerja'].map( {'Wiraswasta': 0, 'Pekerja Bebas Bukan Perusahan': 1,'Pemerintah Lokal': 2,'?': 3,'Pemerintah Negara': 4,'Pekerja Bebas Perusahaan': 5,'Pemerintah Provinsi': 6,'Tanpa di Bayar': 7,'Tidak Pernah Bekerja': 8}) \n",
    "df2['Kelas Pekerja'] = df2['Kelas Pekerja'].map( {'Wiraswasta': 0, 'Pekerja Bebas Bukan Perusahan': 1,'Pemerintah Lokal': 2,'?': 3,'Pemerintah Negara': 4,'Pekerja Bebas Perusahaan': 5,'Pemerintah Provinsi': 6,'Tanpa di Bayar': 7,'Tidak Pernah Bekerja': 8}) \n",
    "\n",
    "df1['Pendidikan'] = df1['Pendidikan'].map({'SMA':0, 'Pendidikan Tinggi':1, 'Sarjana':2, 'Master':3, 'D4':4, '11th':5, 'D3':6, '10th':7, '7th-8th':8, 'Sekolah Professional':9, '9th':10, '12th':11, 'Doktor':12, '5th-6th':13, '1st-4th':14, 'SD':15})\n",
    "df2['Pendidikan'] = df2['Pendidikan'].map({'SMA':0, 'Pendidikan Tinggi':1, 'Sarjana':2, 'Master':3, 'D4':4, '11th':5, 'D3':6, '10th':7, '7th-8th':8, 'Sekolah Professional':9, '9th':10, '12th':11, 'Doktor':12, '5th-6th':13, '1st-4th':14, 'SD':15})\n",
    "\n",
    "df1['Status Perkawinan'] = df1['Status Perkawinan'].map({'Menikah':0, 'Belum Pernah Menikah':1, 'Cerai':2, 'Berpisah':3, 'Janda':4, 'Menikah LDR':5})\n",
    "df2['Status Perkawinan'] = df2['Status Perkawinan'].map({'Menikah':0, 'Belum Pernah Menikah':1, 'Cerai':2, 'Berpisah':3, 'Janda':4, 'Menikah LDR':5})\n",
    "\n",
    "df1['Pekerjaan'] = df1['Pekerjaan'].map({'Spesialis':0, 'Ekesekutif Managerial':1, 'Perbaikan Kerajinan':2, 'Pemuka Agama':3, 'Sales':4, 'Servis Lainnya':5, 'Mesin Inspeksi':6, '?':7, 'Supir':8, 'Pembersih':9, 'Petani':10, 'Tech-support':11, 'Penjaga':12, 'Asisten Rumah Tangga':13, 'Tentara':14})\n",
    "df2['Pekerjaan'] = df2['Pekerjaan'].map({'Spesialis':0, 'Ekesekutif Managerial':1, 'Perbaikan Kerajinan':2, 'Pemuka Agama':3, 'Sales':4, 'Servis Lainnya':5, 'Mesin Inspeksi':6, '?':7, 'Supir':8, 'Pembersih':9, 'Petani':10, 'Tech-support':11, 'Penjaga':12, 'Asisten Rumah Tangga':13, 'Tentara':14})\n",
    "\n",
    "df1['Gaji'] = df1['Gaji'].map({'<=7jt':0, '>7jt':1})\n",
    "\n",
    "# Building maching learning with HistGradientBoostingClassifier\n",
    "X=df1.drop(['Gaji'],axis=1)\n",
    "y=df1['Gaji']\n",
    "\n",
    "X_train, X_valid, y_train, y_valid = train_test_split(X, y, test_size=0.2, random_state=15)\n",
    "\n",
    "model_hist = HistGradientBoostingClassifier(max_iter=3050, learning_rate=0.05, random_state=15, min_samples_leaf=20, max_depth=5)\n",
    "model_hist.fit(X_train,y_train)\n",
    "\n",
    "# Making salary prediction\n",
    "y_pred = model_hist.predict(X_valid)\n",
    "score = accuracy_score(y_valid, y_pred)"
   ]
  },
  {
   "cell_type": "code",
   "execution_count": null,
   "metadata": {},
   "outputs": [],
   "source": []
  }
 ],
 "metadata": {
  "kernelspec": {
   "display_name": "Python 3",
   "language": "python",
   "name": "python3"
  },
  "language_info": {
   "codemirror_mode": {
    "name": "ipython",
    "version": 3
   },
   "file_extension": ".py",
   "mimetype": "text/x-python",
   "name": "python",
   "nbconvert_exporter": "python",
   "pygments_lexer": "ipython3",
   "version": "3.8.3"
  }
 },
 "nbformat": 4,
 "nbformat_minor": 4
}
